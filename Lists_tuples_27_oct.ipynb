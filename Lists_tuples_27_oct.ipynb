{
 "cells": [
  {
   "cell_type": "markdown",
   "id": "dcd6001e",
   "metadata": {},
   "source": [
    "# List in Python"
   ]
  },
  {
   "cell_type": "markdown",
   "id": "afa5c5fa",
   "metadata": {},
   "source": [
    "## Methods of list"
   ]
  },
  {
   "cell_type": "markdown",
   "id": "db9aa070",
   "metadata": {},
   "source": [
    "### sort()"
   ]
  },
  {
   "cell_type": "markdown",
   "id": "6b7a0e19",
   "metadata": {},
   "source": [
    "* The sort() method of list class rearranges the items in ascending or descending order with the use of lexicographical ordering mechanism.\n",
    "* The sorting is in-place, in the sense the rearrangement takes place in the same list object, and that it doesn't return a new object.\n"
   ]
  },
  {
   "cell_type": "markdown",
   "id": "8f15ed53",
   "metadata": {},
   "source": [
    "* Syntax:\n",
    "    * list1.sort(key, reverse)\n",
    "* Parameters:\n",
    "    * Key − The function applied to each item in the list. The return value is used to perform sort. Optional\n",
    "\n",
    "    * reverse − Boolean value. If set to True, the sort takes place in descending order. Optional\n",
    "\n",
    "* Return value:\n",
    "    * This method returns None."
   ]
  },
  {
   "cell_type": "code",
   "execution_count": 1,
   "id": "798923d4",
   "metadata": {},
   "outputs": [
    {
     "name": "stdout",
     "output_type": "stream",
     "text": [
      "Help on method_descriptor:\n",
      "\n",
      "sort(self, /, *, key=None, reverse=False)\n",
      "    Sort the list in ascending order and return None.\n",
      "    \n",
      "    The sort is in-place (i.e. the list itself is modified) and stable (i.e. the\n",
      "    order of two equal elements is maintained).\n",
      "    \n",
      "    If a key function is given, apply it once to each list item and sort them,\n",
      "    ascending or descending, according to their function values.\n",
      "    \n",
      "    The reverse flag can be set to sort in descending order.\n",
      "\n"
     ]
    }
   ],
   "source": [
    "help(list.sort)"
   ]
  },
  {
   "cell_type": "code",
   "execution_count": 5,
   "id": "f1e9da19",
   "metadata": {},
   "outputs": [
    {
     "name": "stdout",
     "output_type": "stream",
     "text": [
      "[-5, 1, 11, 14, 89, 1010]\n"
     ]
    }
   ],
   "source": [
    "x = [11,-5,1,14,1010,89]\n",
    "x.sort()\n",
    "print(x)"
   ]
  },
  {
   "cell_type": "code",
   "execution_count": 4,
   "id": "7b9ca380",
   "metadata": {},
   "outputs": [
    {
     "name": "stdout",
     "output_type": "stream",
     "text": [
      "['a', 'ai', 'by', 'harsh', 'zoo']\n"
     ]
    }
   ],
   "source": [
    "y = ['a','ai','by','zoo','harsh']\n",
    "y.sort()\n",
    "print(y)"
   ]
  },
  {
   "cell_type": "code",
   "execution_count": 8,
   "id": "e270bed3",
   "metadata": {},
   "outputs": [
    {
     "name": "stdout",
     "output_type": "stream",
     "text": [
      "['AAA', 'a.reddy', 'aaa', 'aman', 'ayush', 'harsh']\n"
     ]
    }
   ],
   "source": [
    "a = ['ayush','aman','a.reddy','harsh','aaa','AAA'] #because ascii value\n",
    "a.sort()\n",
    "print(a)"
   ]
  },
  {
   "cell_type": "code",
   "execution_count": 7,
   "id": "0bb84d41",
   "metadata": {},
   "outputs": [
    {
     "name": "stdout",
     "output_type": "stream",
     "text": [
      "[1000, 77, 23, 11, -1]\n"
     ]
    }
   ],
   "source": [
    "b = [23,11,77,1000,-1]\n",
    "b.sort(reverse=True)\n",
    "print(b)"
   ]
  },
  {
   "cell_type": "markdown",
   "id": "a4a281c5",
   "metadata": {},
   "source": [
    "### index() "
   ]
  },
  {
   "cell_type": "markdown",
   "id": "56eb6be7",
   "metadata": {},
   "source": [
    "* The index() method of list class returns the index of first occurrence of the given item.\n"
   ]
  },
  {
   "cell_type": "markdown",
   "id": "e71ff7c6",
   "metadata": {},
   "source": [
    "\n",
    "* Syntax:\n",
    "    * list.index(obj)\n",
    "* Return value:\n",
    "    * The index() method returns an integer, representing the index of the first occurrence of the object"
   ]
  },
  {
   "cell_type": "code",
   "execution_count": 9,
   "id": "a4654832",
   "metadata": {},
   "outputs": [
    {
     "name": "stdout",
     "output_type": "stream",
     "text": [
      "Help on method_descriptor:\n",
      "\n",
      "index(self, value, start=0, stop=9223372036854775807, /)\n",
      "    Return first index of value.\n",
      "    \n",
      "    Raises ValueError if the value is not present.\n",
      "\n"
     ]
    }
   ],
   "source": [
    "help(list.index)"
   ]
  },
  {
   "cell_type": "code",
   "execution_count": 12,
   "id": "1ba3a082",
   "metadata": {},
   "outputs": [
    {
     "name": "stdout",
     "output_type": "stream",
     "text": [
      "4\n"
     ]
    }
   ],
   "source": [
    "x = [1,12,42,-2,5.6,'harsh',1000]\n",
    "y = x.index(5.6)\n",
    "print(y)"
   ]
  },
  {
   "cell_type": "code",
   "execution_count": 13,
   "id": "d7553e79",
   "metadata": {},
   "outputs": [
    {
     "name": "stdout",
     "output_type": "stream",
     "text": [
      "5\n"
     ]
    }
   ],
   "source": [
    "x = [1,12,42,-2,5.6,'harsh',1000]\n",
    "y = x.index('harsh')\n",
    "print(y)"
   ]
  },
  {
   "cell_type": "markdown",
   "id": "84f4355d",
   "metadata": {},
   "source": [
    "### count()"
   ]
  },
  {
   "cell_type": "markdown",
   "id": "1c789c64",
   "metadata": {},
   "source": [
    "* The count() method in list class returns the number of times a given object occurs in the list.\n"
   ]
  },
  {
   "cell_type": "markdown",
   "id": "ed2d215f",
   "metadata": {},
   "source": [
    "\n",
    "* Syntax\n",
    "    * list.count(obj)\n",
    "* Return Value\n",
    "    * Number of occurrence of the object. The count() method returns an integer."
   ]
  },
  {
   "cell_type": "code",
   "execution_count": 15,
   "id": "07a0840c",
   "metadata": {},
   "outputs": [
    {
     "name": "stdout",
     "output_type": "stream",
     "text": [
      "Help on method_descriptor:\n",
      "\n",
      "count(self, value, /)\n",
      "    Return number of occurrences of value.\n",
      "\n"
     ]
    }
   ],
   "source": [
    "help(list.count)"
   ]
  },
  {
   "cell_type": "code",
   "execution_count": 14,
   "id": "921ce443",
   "metadata": {},
   "outputs": [
    {
     "name": "stdout",
     "output_type": "stream",
     "text": [
      "3\n"
     ]
    }
   ],
   "source": [
    "x = [1,2,3,1,5,1,9]\n",
    "y = x.count(1)\n",
    "print(y)"
   ]
  },
  {
   "cell_type": "markdown",
   "id": "0233c8c3",
   "metadata": {},
   "source": [
    "### reverse()"
   ]
  },
  {
   "cell_type": "markdown",
   "id": "cdd90849",
   "metadata": {},
   "source": [
    "* The reverse() method in list class reverses the order of items in the list. The item in last index is relocated to 0th index, and one originally at index 0 goes to the last position.\n"
   ]
  },
  {
   "cell_type": "markdown",
   "id": "bf9db274",
   "metadata": {},
   "source": [
    "\n",
    "* Syntax\n",
    "    * list.reverse()\n",
    "* Return value\n",
    "    * This method doesn't return anything as the order is reversed in-place."
   ]
  },
  {
   "cell_type": "code",
   "execution_count": 16,
   "id": "1660f8f5",
   "metadata": {},
   "outputs": [
    {
     "name": "stdout",
     "output_type": "stream",
     "text": [
      "Help on method_descriptor:\n",
      "\n",
      "reverse(self, /)\n",
      "    Reverse *IN PLACE*.\n",
      "\n"
     ]
    }
   ],
   "source": [
    "help(list.reverse)"
   ]
  },
  {
   "cell_type": "code",
   "execution_count": 19,
   "id": "1b6de74a",
   "metadata": {},
   "outputs": [
    {
     "name": "stdout",
     "output_type": "stream",
     "text": [
      "[1, 12, 42, -2, 5.6, 'harsh', 1000]\n",
      "[1000, 'harsh', 5.6, -2, 42, 12, 1]\n"
     ]
    }
   ],
   "source": [
    "x = [1,12,42,-2,5.6,'harsh',1000]\n",
    "print(x)\n",
    "x.reverse()\n",
    "print(x)"
   ]
  },
  {
   "cell_type": "markdown",
   "id": "5df89eff",
   "metadata": {},
   "source": [
    "### clear()"
   ]
  },
  {
   "cell_type": "markdown",
   "id": "ae96ebc4",
   "metadata": {},
   "source": [
    "* The clear() method in list class clears the contents of the given list."
   ]
  },
  {
   "cell_type": "markdown",
   "id": "bc4f5af3",
   "metadata": {},
   "source": [
    "* Syntax\n",
    "    * list.clear()\n"
   ]
  },
  {
   "cell_type": "code",
   "execution_count": 20,
   "id": "74c07c2b",
   "metadata": {},
   "outputs": [
    {
     "name": "stdout",
     "output_type": "stream",
     "text": [
      "Help on method_descriptor:\n",
      "\n",
      "clear(self, /)\n",
      "    Remove all items from list.\n",
      "\n"
     ]
    }
   ],
   "source": [
    "help(list.clear)"
   ]
  },
  {
   "cell_type": "code",
   "execution_count": 21,
   "id": "18ec6175",
   "metadata": {},
   "outputs": [
    {
     "name": "stdout",
     "output_type": "stream",
     "text": [
      "[]\n"
     ]
    }
   ],
   "source": [
    "x = [1,12,42,-2,5.6,'harsh',1000]\n",
    "x.clear()\n",
    "print(x)"
   ]
  },
  {
   "cell_type": "markdown",
   "id": "4aa0825a",
   "metadata": {},
   "source": [
    "### Copy()"
   ]
  },
  {
   "cell_type": "markdown",
   "id": "e63e0887",
   "metadata": {},
   "source": [
    "* Python List Copy() methods return a shallow copy of a list, which returns a new list without modifying the original lists. Sometimes, there is a need to reuse any object, hence copy methods are always of great utility."
   ]
  },
  {
   "cell_type": "markdown",
   "id": "df8d8d9e",
   "metadata": {},
   "source": [
    "* Syntax:\n",
    "    * list.copy()\n",
    "\n",
    "* Parameters:\n",
    "    * The copy() method doesn’t take any parameters.\n",
    "* Returns:\n",
    "    * Returns a shallow copy of a list. A shallow copy means any modification in the new list won’t be reflected in the original list. "
   ]
  },
  {
   "cell_type": "code",
   "execution_count": 22,
   "id": "a372f7df",
   "metadata": {},
   "outputs": [
    {
     "name": "stdout",
     "output_type": "stream",
     "text": [
      "Help on method_descriptor:\n",
      "\n",
      "copy(self, /)\n",
      "    Return a shallow copy of the list.\n",
      "\n"
     ]
    }
   ],
   "source": [
    "help(list.copy)"
   ]
  },
  {
   "cell_type": "code",
   "execution_count": 23,
   "id": "7ffff53e",
   "metadata": {},
   "outputs": [
    {
     "name": "stdout",
     "output_type": "stream",
     "text": [
      "[11, 22, 33] 0x2636ee580c0\n",
      "[11, 22, 33] 0x2636ee580c0\n",
      "[11, 22, 33, 44]\n",
      "0x7ffdc5409468 0x7ffdc5409468\n"
     ]
    }
   ],
   "source": [
    "x = [11, 22, 33]\n",
    "print(x, hex(id(x)))\n",
    "\n",
    "y = x\n",
    "print(y, hex(id(y)))\n",
    "\n",
    "x.append(44)\n",
    "print(y)\n",
    "print(hex(id(x[0])), hex(id(y[0])))"
   ]
  },
  {
   "cell_type": "code",
   "execution_count": 24,
   "id": "89844a7f",
   "metadata": {},
   "outputs": [
    {
     "name": "stdout",
     "output_type": "stream",
     "text": [
      "[11, 22, 33, 44] 0x2636ee4c680\n",
      "0x7ffdc5409468\n"
     ]
    }
   ],
   "source": [
    "z = x.copy()\n",
    "x.append(55)\n",
    "print(z, hex(id(z)))\n",
    "print(hex(id(z[0])))"
   ]
  },
  {
   "cell_type": "code",
   "execution_count": 25,
   "id": "29b0a1ff",
   "metadata": {},
   "outputs": [
    {
     "name": "stdout",
     "output_type": "stream",
     "text": [
      "[1, [4, 5, 6]] [4, 5, 6] 0x2636ee44f80 0x2636ee59580\n",
      "[1, [4, 5, 6]] [4, 5, 6] 0x2636ee58080 0x2636ee59580\n"
     ]
    }
   ],
   "source": [
    "a = [1, [4,5,6]]\n",
    "print(a, a[1], hex(id(a)), hex(id(a[1])))\n",
    "\n",
    "b = a.copy()\n",
    "print(b, b[1], hex(id(b)), hex(id(b[1])))"
   ]
  },
  {
   "cell_type": "code",
   "execution_count": 26,
   "id": "d7af1c6b",
   "metadata": {},
   "outputs": [
    {
     "name": "stdout",
     "output_type": "stream",
     "text": [
      "[1, [4, 5, 6, 7]]\n",
      "[1, [4, 5, 6, 7]]\n"
     ]
    }
   ],
   "source": [
    "a[1].append(7)\n",
    "print(a)\n",
    "print(b)"
   ]
  },
  {
   "cell_type": "code",
   "execution_count": 27,
   "id": "b619b6db",
   "metadata": {},
   "outputs": [],
   "source": [
    "import copy\n",
    "from copy import deepcopy"
   ]
  },
  {
   "cell_type": "code",
   "execution_count": 28,
   "id": "ac5a38b4",
   "metadata": {},
   "outputs": [
    {
     "name": "stdout",
     "output_type": "stream",
     "text": [
      "[1, [4, 5, 6]] 0x2636e12fac0 0x2636ee58200\n",
      "[1, [4, 5, 6]] 0x2636ee2ae80 0x2636ee4ebc0\n"
     ]
    }
   ],
   "source": [
    "a = [1, [4, 5, 6]]\n",
    "b = deepcopy(a)\n",
    "print(a, hex(id(a)), hex(id(a[1])))\n",
    "print(b, hex(id(b)), hex(id(b[1])))"
   ]
  },
  {
   "cell_type": "code",
   "execution_count": 29,
   "id": "34475ffb",
   "metadata": {},
   "outputs": [
    {
     "name": "stdout",
     "output_type": "stream",
     "text": [
      "[1, [4, 5, 6, 7]]\n"
     ]
    }
   ],
   "source": [
    "a[1].append(7)\n",
    "print(a)"
   ]
  },
  {
   "cell_type": "markdown",
   "id": "dfa3024b",
   "metadata": {},
   "source": [
    "# Tuples in Python"
   ]
  },
  {
   "cell_type": "markdown",
   "id": "bb2fae26",
   "metadata": {},
   "source": [
    "* Tuple is one of the built-in data types in Python. A Python tuple is a sequence of comma separated items, enclosed in parentheses ().\n",
    "* Tuple is immutable.it is a collection which is ordered and unchangeable.\n",
    "* Tuples are unchangeable, meaning that we cannot change, add or remove items after the tuple has been created."
   ]
  },
  {
   "cell_type": "markdown",
   "id": "c747a4dd",
   "metadata": {},
   "source": [
    "![](https://pynative.com/wp-content/uploads/2021/02/python-tuple.jpg)"
   ]
  },
  {
   "cell_type": "code",
   "execution_count": 30,
   "id": "0710e025",
   "metadata": {},
   "outputs": [
    {
     "name": "stdout",
     "output_type": "stream",
     "text": [
      "(11, 23.2, (6+3j), 'Harsh', <built-in function print>, <class 'range'>)\n",
      "<class 'tuple'>\n",
      "2626085767680\n"
     ]
    }
   ],
   "source": [
    "x = (11, 23.2, 6+3j, 'Harsh', print, range)\n",
    "\n",
    "print(x, type(x), id(x), sep='\\n')"
   ]
  },
  {
   "cell_type": "markdown",
   "id": "75f24c31",
   "metadata": {},
   "source": [
    "#### Creating Python Tuples\n",
    "*  There are two ways by which a tuple can be created. They are as follows:\n",
    "    * Using parentheses ()\n",
    "    * Tuple Constructor"
   ]
  },
  {
   "cell_type": "code",
   "execution_count": 31,
   "id": "42035ee0",
   "metadata": {},
   "outputs": [
    {
     "name": "stdout",
     "output_type": "stream",
     "text": [
      "('h', 'e', 'l', 'l', 'o')\n",
      "<class 'tuple'>\n"
     ]
    }
   ],
   "source": [
    "x = tuple('hello')\n",
    "print(x, type(x), sep='\\n')"
   ]
  },
  {
   "cell_type": "code",
   "execution_count": 32,
   "id": "6f59d87a",
   "metadata": {},
   "outputs": [
    {
     "name": "stdout",
     "output_type": "stream",
     "text": [
      "(1000, 1, 48, 99)\n",
      "<class 'tuple'>\n"
     ]
    }
   ],
   "source": [
    "y = tuple({1,1000,48,99})\n",
    "print(y, type(y), sep='\\n')"
   ]
  },
  {
   "cell_type": "code",
   "execution_count": 35,
   "id": "0d4b2196",
   "metadata": {},
   "outputs": [
    {
     "name": "stdout",
     "output_type": "stream",
     "text": [
      "2\n",
      "3\n"
     ]
    }
   ],
   "source": [
    "a,b = (2,3)\n",
    "print(a)\n",
    "print(b)"
   ]
  },
  {
   "cell_type": "code",
   "execution_count": 36,
   "id": "b0da9ff3",
   "metadata": {},
   "outputs": [
    {
     "name": "stdout",
     "output_type": "stream",
     "text": [
      "(10,)\n",
      "<class 'tuple'>\n",
      "1\n"
     ]
    }
   ],
   "source": [
    "z = (10,)\n",
    "print(z, type(z), len(z), sep = '\\n')"
   ]
  },
  {
   "cell_type": "code",
   "execution_count": 37,
   "id": "fe34b0da",
   "metadata": {},
   "outputs": [
    {
     "name": "stdout",
     "output_type": "stream",
     "text": [
      "()\n",
      "<class 'tuple'>\n",
      "0\n"
     ]
    }
   ],
   "source": [
    "# empty tuple \n",
    "\n",
    "z = tuple()\n",
    "print(z, type(z), len(z), sep = '\\n')"
   ]
  },
  {
   "cell_type": "code",
   "execution_count": 39,
   "id": "e6a03933",
   "metadata": {},
   "outputs": [
    {
     "data": {
      "text/plain": [
       "['__add__',\n",
       " '__class__',\n",
       " '__class_getitem__',\n",
       " '__contains__',\n",
       " '__delattr__',\n",
       " '__dir__',\n",
       " '__doc__',\n",
       " '__eq__',\n",
       " '__format__',\n",
       " '__ge__',\n",
       " '__getattribute__',\n",
       " '__getitem__',\n",
       " '__getnewargs__',\n",
       " '__getstate__',\n",
       " '__gt__',\n",
       " '__hash__',\n",
       " '__init__',\n",
       " '__init_subclass__',\n",
       " '__iter__',\n",
       " '__le__',\n",
       " '__len__',\n",
       " '__lt__',\n",
       " '__mul__',\n",
       " '__ne__',\n",
       " '__new__',\n",
       " '__reduce__',\n",
       " '__reduce_ex__',\n",
       " '__repr__',\n",
       " '__rmul__',\n",
       " '__setattr__',\n",
       " '__sizeof__',\n",
       " '__str__',\n",
       " '__subclasshook__',\n",
       " 'count',\n",
       " 'index']"
      ]
     },
     "execution_count": 39,
     "metadata": {},
     "output_type": "execute_result"
    }
   ],
   "source": [
    "dir(tuple)"
   ]
  },
  {
   "cell_type": "markdown",
   "id": "b783c282",
   "metadata": {},
   "source": [
    "## Methods of Tuple"
   ]
  },
  {
   "cell_type": "markdown",
   "id": "11c377be",
   "metadata": {},
   "source": [
    "### index()"
   ]
  },
  {
   "cell_type": "markdown",
   "id": "2853d23a",
   "metadata": {},
   "source": [
    "* The index() method finds the first occurrence of the specified value.\n",
    "\n",
    "* The index() method raises an exception if the value is not found."
   ]
  },
  {
   "cell_type": "markdown",
   "id": "22aa55db",
   "metadata": {},
   "source": [
    "* Syntax\n",
    "    * tuple.index(value)"
   ]
  },
  {
   "cell_type": "code",
   "execution_count": 40,
   "id": "8fa29568",
   "metadata": {},
   "outputs": [
    {
     "name": "stdout",
     "output_type": "stream",
     "text": [
      "Help on method_descriptor:\n",
      "\n",
      "index(self, value, start=0, stop=9223372036854775807, /)\n",
      "    Return first index of value.\n",
      "    \n",
      "    Raises ValueError if the value is not present.\n",
      "\n"
     ]
    }
   ],
   "source": [
    "help(tuple.index)"
   ]
  },
  {
   "cell_type": "code",
   "execution_count": 42,
   "id": "68b15529",
   "metadata": {},
   "outputs": [
    {
     "name": "stdout",
     "output_type": "stream",
     "text": [
      "11\n"
     ]
    }
   ],
   "source": [
    "a = (11,22,33,44,55,66,77)\n",
    "print(a[0])"
   ]
  },
  {
   "cell_type": "code",
   "execution_count": 43,
   "id": "8481276c",
   "metadata": {},
   "outputs": [
    {
     "name": "stdout",
     "output_type": "stream",
     "text": [
      "66\n"
     ]
    }
   ],
   "source": [
    "a = (11,22,33,44,55,66,77)\n",
    "print(a[5])"
   ]
  },
  {
   "cell_type": "code",
   "execution_count": 45,
   "id": "c2c64e1e",
   "metadata": {},
   "outputs": [
    {
     "name": "stdout",
     "output_type": "stream",
     "text": [
      "[11, 22, 33]\n"
     ]
    }
   ],
   "source": [
    "x = (1,2,3,[11,22,33])\n",
    "print(x[3])"
   ]
  },
  {
   "cell_type": "code",
   "execution_count": 46,
   "id": "853e8af8",
   "metadata": {},
   "outputs": [
    {
     "name": "stdout",
     "output_type": "stream",
     "text": [
      "22\n"
     ]
    }
   ],
   "source": [
    "x = (1,2,3,[11,22,33])\n",
    "print(x[3][1])"
   ]
  },
  {
   "cell_type": "code",
   "execution_count": 47,
   "id": "fc9e45b8",
   "metadata": {},
   "outputs": [
    {
     "name": "stdout",
     "output_type": "stream",
     "text": [
      "(1, 2, 3, [11, 22, 33, 44])\n"
     ]
    }
   ],
   "source": [
    "x[3].append(44)  # we not change tuple but we change list which is inside the tuple.\n",
    "print(x)"
   ]
  },
  {
   "cell_type": "markdown",
   "id": "29a30cd4",
   "metadata": {},
   "source": [
    "### count()"
   ]
  },
  {
   "cell_type": "markdown",
   "id": "6d7b3c9f",
   "metadata": {},
   "source": [
    "* The count() method returns the number of times a specified value appears in the tuple."
   ]
  },
  {
   "cell_type": "markdown",
   "id": "4bce0b5f",
   "metadata": {},
   "source": [
    "* Syntax\n",
    "    * tuple.count(value)"
   ]
  },
  {
   "cell_type": "code",
   "execution_count": 49,
   "id": "0a14e16b",
   "metadata": {},
   "outputs": [
    {
     "name": "stdout",
     "output_type": "stream",
     "text": [
      "Help on method_descriptor:\n",
      "\n",
      "count(self, value, /)\n",
      "    Return number of occurrences of value.\n",
      "\n"
     ]
    }
   ],
   "source": [
    "help(tuple.count)"
   ]
  },
  {
   "cell_type": "code",
   "execution_count": 51,
   "id": "26659889",
   "metadata": {},
   "outputs": [
    {
     "name": "stdout",
     "output_type": "stream",
     "text": [
      "3\n"
     ]
    }
   ],
   "source": [
    "x = (1, 5, 3, 7, 8, 7, 5, 4, 6, 8, 5)\n",
    "\n",
    "y = x.count(5)\n",
    "\n",
    "print(y)"
   ]
  },
  {
   "cell_type": "code",
   "execution_count": null,
   "id": "0c36c5bc",
   "metadata": {},
   "outputs": [],
   "source": []
  }
 ],
 "metadata": {
  "kernelspec": {
   "display_name": "Python 3 (ipykernel)",
   "language": "python",
   "name": "python3"
  },
  "language_info": {
   "codemirror_mode": {
    "name": "ipython",
    "version": 3
   },
   "file_extension": ".py",
   "mimetype": "text/x-python",
   "name": "python",
   "nbconvert_exporter": "python",
   "pygments_lexer": "ipython3",
   "version": "3.11.5"
  }
 },
 "nbformat": 4,
 "nbformat_minor": 5
}
